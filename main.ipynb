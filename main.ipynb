{
 "cells": [
  {
   "cell_type": "code",
   "execution_count": 92,
   "id": "657abba2",
   "metadata": {},
   "outputs": [],
   "source": [
    "import nltk\n",
    "from nltk.corpus import *\n",
    "import matplotlib"
   ]
  },
  {
   "cell_type": "code",
   "execution_count": 93,
   "id": "c85a6051",
   "metadata": {},
   "outputs": [],
   "source": [
    "data = None\n",
    "cuss_words = {\n",
    "    'english':[],\n",
    "    'hindi':[]\n",
    "}\n",
    "sr = stopwords.words('english')"
   ]
  },
  {
   "cell_type": "code",
   "execution_count": 94,
   "id": "edf9a49f",
   "metadata": {},
   "outputs": [],
   "source": [
    "with open('data.txt', 'r') as data_file:\n",
    "\tdata = data_file.read()\n",
    "\tdata_file.close()\n",
    "with open('cuss_words_english.txt', 'r') as english_cuss:\n",
    "    for cuss in english_cuss:\n",
    "        cuss_words['english'].append(cuss.replace('\\n',''))\n",
    "    english_cuss.close()\n",
    "        \n",
    "with open('cuss_words_hindi_beginners.txt', 'r') as hindi_beginners:\n",
    "    for cuss in hindi_beginners:\n",
    "        cuss_words['hindi'].append(cuss.replace('\\n',''))\n",
    "    hindi_beginners.close()\n",
    "\n",
    "with open('cuss_words_hindi_commonly_used.txt', 'r') as hindi_beginners:\n",
    "    for cuss in hindi_beginners:\n",
    "        cuss_words['hindi'].append(cuss.replace('\\n',''))\n",
    "    hindi_beginners.close()\n",
    "\n",
    "with open('cuss_words_hindi_challengers.txt', 'r') as hindi_beginners:\n",
    "    for cuss in hindi_beginners:\n",
    "        cuss_words['hindi'].append(cuss.replace('\\n',''))\n",
    "    hindi_beginners.close()\n",
    "\n",
    "with open('cuss_words_hindi_champs.txt', 'r') as hindi_beginners:\n",
    "    for cuss in hindi_beginners:\n",
    "        cuss_words['hindi'].append(cuss.replace('\\n',''))\n",
    "    hindi_beginners.close()\n",
    "    \n",
    "with open('cuss_words_hindi_legends.txt', 'r') as hindi_beginners:\n",
    "    for cuss in hindi_beginners:\n",
    "        cuss_words['hindi'].append(cuss.replace('\\n',''))\n",
    "    hindi_beginners.close()"
   ]
  },
  {
   "cell_type": "code",
   "execution_count": 95,
   "id": "ff186a24",
   "metadata": {},
   "outputs": [],
   "source": [
    "tokens = [x for x in data.split()]\n",
    "clear_tokens = tokens[:]"
   ]
  },
  {
   "cell_type": "code",
   "execution_count": 96,
   "id": "4bee04d9",
   "metadata": {},
   "outputs": [],
   "source": [
    "for token in tokens:\n",
    "\tif token in sr:\n",
    "\t\tclear_tokens.remove(token)"
   ]
  },
  {
   "cell_type": "code",
   "execution_count": 97,
   "id": "f927a308",
   "metadata": {},
   "outputs": [],
   "source": [
    "freq = nltk.FreqDist(clear_tokens)"
   ]
  },
  {
   "cell_type": "code",
   "execution_count": 98,
   "id": "7f630b2e",
   "metadata": {},
   "outputs": [
    {
     "data": {
      "image/png": "[encoded data removed]",
      "text/plain": [
       "<Figure size 432x288 with 1 Axes>"
      ]
     },
     "metadata": {
      "needs_background": "light"
     },
     "output_type": "display_data"
    },
    {
     "data": {
      "text/plain": [
       "<AxesSubplot:xlabel='Samples', ylabel='Counts'>"
      ]
     },
     "execution_count": 98,
     "metadata": {},
     "output_type": "execute_result"
    }
   ],
   "source": [
    "freq.plot(20)"
   ]
  },
  {
   "cell_type": "code",
   "execution_count": 99,
   "id": "23a700db",
   "metadata": {},
   "outputs": [
    {
     "name": "stdout",
     "output_type": "stream",
     "text": [
      "The Topic in this data is 'Arnav'!\n"
     ]
    }
   ],
   "source": [
    "print(f'The Topic in this data is \\'{freq.most_common()[0][0]}\\'!')"
   ]
  },
  {
   "cell_type": "code",
   "execution_count": 100,
   "id": "a922f7e4",
   "metadata": {
    "scrolled": true
   },
   "outputs": [
    {
     "name": "stdout",
     "output_type": "stream",
     "text": [
      "0.0 is your Slang Average\n",
      "Wait what? Its incredible, that you don't slang\n"
     ]
    }
   ],
   "source": [
    "slang_counter = 0\n",
    "#Check for English Slangs\n",
    "for cuss in cuss_words['english']:\n",
    "    if cuss in clear_tokens:\n",
    "        slang_counter = slang_counter + 1\n",
    "        \n",
    "for cuss in cuss_words['hindi']:\n",
    "    if cuss in clear_tokens:\n",
    "        slang_counter = slang_counter + 1\n",
    "\n",
    "slang_average = slang_counter/len(clear_tokens)\n",
    "\n",
    "print(f'{slang_average} is your Slang Average')\n",
    "if slang_average > 5:\n",
    "    print('Well, You need to Control Yourself!')\n",
    "elif slang_average == 0:\n",
    "    print('Wait what? Its incredible, that you don\\'t slang')\n",
    "else:\n",
    "    print('Well, You are under Control but try to eliminate Slangs in your Conversation')"
   ]
  },
  {
   "cell_type": "code",
   "execution_count": null,
   "id": "c23a0b86",
   "metadata": {},
   "outputs": [],
   "source": []
  },
  {
   "cell_type": "code",
   "execution_count": null,
   "id": "413ee666",
   "metadata": {},
   "outputs": [],
   "source": []
  }
 ],
 "metadata": {
  "kernelspec": {
   "display_name": "Python 3",
   "language": "python",
   "name": "python3"
  },
  "language_info": {
   "codemirror_mode": {
    "name": "ipython",
    "version": 3
   },
   "file_extension": ".py",
   "mimetype": "text/x-python",
   "name": "python",
   "nbconvert_exporter": "python",
   "pygments_lexer": "ipython3",
   "version": "3.9.2"
  }
 },
 "nbformat": 4,
 "nbformat_minor": 5
}
